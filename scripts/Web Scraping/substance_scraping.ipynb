{
 "cells": [
  {
   "cell_type": "markdown",
   "id": "710a46e9",
   "metadata": {},
   "source": [
    "# **Fetching CAS Numbers and Synonyms for Chemical Substances**\n",
    "\n",
    "This Jupyter Notebook fetches **CAS numbers**, **synonyms**, and **source links** for given chemical substances. \n",
    "\n",
    "## **Sources Used:**\n",
    "1. **PubChem API** - To get structured chemical information.\n",
    "2. **Wikipedia** - As a secondary source for synonyms and CAS numbers.\n"
   ]
  },
  {
   "cell_type": "markdown",
   "id": "e9fc3f58",
   "metadata": {},
   "source": [
    "## **Import Required Libraries**\n",
    "\n",
    "We need the following Python libraries:\n",
    "- `requests` for making API calls and web scraping.\n",
    "- `pandas` for handling tabular data.\n",
    "- `BeautifulSoup` for parsing Wikipedia HTML pages.\n"
   ]
  },
  {
   "cell_type": "code",
   "execution_count": 1,
   "id": "32d6135b",
   "metadata": {},
   "outputs": [],
   "source": [
    "import requests\n",
    "import pandas as pd\n",
    "from bs4 import BeautifulSoup"
   ]
  },
  {
   "cell_type": "markdown",
   "id": "6975e39d",
   "metadata": {},
   "source": [
    "## **Fetch Data from PubChem API**\n",
    "\n",
    "This function queries the **PubChem API** to retrieve:\n",
    "1. The **CAS number** of the given substance.\n",
    "2. A list of **synonyms** for the substance.\n",
    "3. The **PubChem compound source URL**.\n",
    "4. The **PubChem synonym source URL**.\n"
   ]
  },
  {
   "cell_type": "code",
   "execution_count": 2,
   "id": "be637e24",
   "metadata": {},
   "outputs": [],
   "source": [
    "def fetch_pubchem_data(substance_name):\n",
    "    \"\"\"Fetch CAS number, synonyms, and sources from PubChem API.\"\"\"\n",
    "    base_url = \"https://pubchem.ncbi.nlm.nih.gov/rest/pug/compound/name/\"\n",
    "    url = f\"{base_url}{substance_name}/property/IUPACName,MolecularFormula,MolecularWeight,CanonicalSMILES,IsomericSMILES/JSON\"\n",
    "    \n",
    "    response = requests.get(url)\n",
    "    if response.status_code == 200:\n",
    "        data = response.json()\n",
    "        try:\n",
    "            compound_id = data['PropertyTable']['Properties'][0]['CID']\n",
    "            cas_url = f\"https://pubchem.ncbi.nlm.nih.gov/rest/pug/compound/cid/{compound_id}/synonyms/JSON\"\n",
    "            cas_response = requests.get(cas_url)\n",
    "            if cas_response.status_code == 200:\n",
    "                synonyms_data = cas_response.json()\n",
    "                synonyms = synonyms_data['InformationList']['Information'][0]['Synonym']\n",
    "                cas_number = next((s for s in synonyms if s.count('-') == 2 and s.replace('-', '').isdigit()), 'N/A')\n",
    "                compound_source = f\"https://pubchem.ncbi.nlm.nih.gov/compound/{compound_id}\"\n",
    "                synonym_source = f\"https://pubchem.ncbi.nlm.nih.gov/rest/pug/compound/name/{cas_number}/synonyms/JSON\"\n",
    "                return cas_number, synonyms, compound_source, synonym_source\n",
    "        except KeyError:\n",
    "            return \"N/A\", [], \"N/A\", \"N/A\"\n",
    "    return \"N/A\", [], \"N/A\", \"N/A\""
   ]
  },
  {
   "cell_type": "markdown",
   "id": "4200f276",
   "metadata": {},
   "source": [
    "## **Fetch Data from Wikipedia**\n",
    "\n",
    "If the **PubChem API** fails to provide data, this function scrapes **Wikipedia** for:\n",
    "1. The **CAS number** (if available).\n",
    "2. **Synonyms** of the substance.\n",
    "3. The **Wikipedia page URL**.\n"
   ]
  },
  {
   "cell_type": "code",
   "execution_count": null,
   "id": "230f1ec7",
   "metadata": {},
   "outputs": [],
   "source": [
    "def fetch_wikipedia_data(substance_name):\n",
    "    \"\"\"Scrape Wikipedia for CAS number and synonyms.\"\"\"\n",
    "    search_url = f\"https://en.wikipedia.org/wiki/{substance_name.replace(' ', '_')}\"\n",
    "    response = requests.get(search_url)\n",
    "    if response.status_code == 200:\n",
    "        soup = BeautifulSoup(response.text, 'html.parser')\n",
    "        infobox = soup.find('table', {'class': 'infobox'})\n",
    "        if infobox:\n",
    "            cas_number = \"N/A\"\n",
    "            synonyms = []\n",
    "            for row in infobox.find_all('tr'):\n",
    "                header = row.find('th')\n",
    "                if header:\n",
    "                    if 'CAS Number' in header.text:\n",
    "                        cas_number = row.find('td').text.strip()\n",
    "                    if 'Other names' in header.text:\n",
    "                        synonyms = row.find('td').text.strip().split(', ')\n",
    "            return cas_number, synonyms, search_url\n",
    "    return \"N/A\", [], \"N/A\""
   ]
  },
  {
   "cell_type": "markdown",
   "id": "57052428",
   "metadata": {},
   "source": [
    "## **Process the List of Substances**\n",
    "\n",
    "This function:\n",
    "1. Loops through each substance in the provided list.\n",
    "2. **Tries fetching data from PubChem**.\n",
    "3. If PubChem fails, it **tries Wikipedia**.\n",
    "4. Stores the results in a structured **Pandas DataFrame**.\n",
    "5. Saves the data to a **CSV file**.\n"
   ]
  },
  {
   "cell_type": "code",
   "execution_count": null,
   "id": "d6a06b64",
   "metadata": {},
   "outputs": [],
   "source": [
    "def main(substance_list):\n",
    "    \"\"\"Processes each substance by fetching data from PubChem and Wikipedia.\"\"\"\n",
    "    results = []\n",
    "    for substance in substance_list:\n",
    "        cas, synonyms, compound_source, synonym_source = fetch_pubchem_data(substance)\n",
    "        if cas == \"N/A\":  # Try Wikipedia if PubChem fails\n",
    "            cas, synonyms, synonym_source = fetch_wikipedia_data(substance)\n",
    "            compound_source = synonym_source\n",
    "        \n",
    "        for synonym in synonyms:\n",
    "            results.append({\n",
    "                'Substance Name': substance,\n",
    "                'CAS Number': cas,\n",
    "                'Synonym': synonym,\n",
    "                'Compound Source': compound_source,\n",
    "                'Synonym Source': synonym_source\n",
    "            })\n",
    "    \n",
    "    df = pd.DataFrame(results)\n",
    "    file_path = \"substance_data.csv\"\n",
    "    df.to_csv(file_path, index=False)\n",
    "    print(f\"Data saved to {file_path}\")\n",
    "    return df"
   ]
  },
  {
   "cell_type": "markdown",
   "id": "69fb96d1",
   "metadata": {},
   "source": [
    "## **Run the Script**\n",
    "\n",
    "Here, we define a **list of sample substances** and execute the `main()` function to fetch and store the data.\n"
   ]
  },
  {
   "cell_type": "code",
   "execution_count": null,
   "id": "fcd39e4c",
   "metadata": {},
   "outputs": [],
   "source": [
    "# Sample list of substances\n",
    "substances = ['(2-Bromoethyl)Benzene','(2-bromoethyl)benzene','(2-bromoethyl)-benzene',\n",
    "              '(2-chloroethyl)-benzene','(2-nitroprop-1-en-1-yl)benzene',\n",
    "              '1-(2-Phenylethyl)-4-phenyl-4-acetoxypiperidine','1-(4-bromophenyl)propan-1-one',\n",
    "              '1-(4-chlorophenyl)propan-1-one','1-(4-methylphenyl)propan-1-one',\n",
    "              '1-(phenylmethyl)-4-piperidinone']\n",
    "\n",
    "# Execute the main function\n",
    "df_results = main(substances)\n",
    "print(df_results)"
   ]
  }
 ],
 "metadata": {
  "kernelspec": {
   "display_name": "Python 3 (ipykernel)",
   "language": "python",
   "name": "python3"
  },
  "language_info": {
   "codemirror_mode": {
    "name": "ipython",
    "version": 3
   },
   "file_extension": ".py",
   "mimetype": "text/x-python",
   "name": "python",
   "nbconvert_exporter": "python",
   "pygments_lexer": "ipython3",
   "version": "3.12.7"
  }
 },
 "nbformat": 4,
 "nbformat_minor": 5
}
